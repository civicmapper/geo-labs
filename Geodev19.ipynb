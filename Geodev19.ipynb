{
 "cells": [
  {
   "cell_type": "markdown",
   "metadata": {},
   "source": [
    "# Part I - Download Lidar Data from PASDA\n",
    "\n",
    "- 1. Use Imagery Navigator to find tiles\n",
    "- 2. Get LAS files URL & Make LAS files list\n",
    "- 3. Download Zip files\n",
    "    - 1. Bulk download extension and extract.py\n",
    "    - 2. Python mget\n",
    "- 4. Extract to LAS files"
   ]
  },
  {
   "cell_type": "markdown",
   "metadata": {},
   "source": [
    "## 1. Use Imagery Navigator from PASDA to get a list of tiles you need"
   ]
  },
  {
   "cell_type": "markdown",
   "metadata": {},
   "source": [
    "### Go to Imagery Navigator to find your AOI\n",
    "\n",
    "https://maps.psiee.psu.edu/ImageryNavigator/\n",
    "\n",
    "Zoom to Area of Interest.\n",
    "\n",
    "### Get Tile List with Advanced Download Options\n",
    "Turn on the Index Tile Layer to see how many tiles are in you AOI.\n",
    "\n",
    "Use Advanced Download Options (lower left) to open the download pop-up.\n",
    "\n",
    "Click the \"List the tiles in the current map extent\" link to populate window with available downloads.\n",
    "\n",
    "Switch to the Liar, DEM, tab.\n",
    "\n",
    "### Make LASURL and FileListtxt files from the Advanced Download list\n",
    "\n",
    "Right click one of the LAS download links and click 'copy link address'\n",
    "`ftp://ftp.pasda.psu.edu/pub/pasda/dauphincountyLiDAR/LAS/Classified_LAS/34502200PAS_LAS.zip`\n",
    "\n",
    "Paste into text editor and strip off the file name\n",
    "`ftp://ftp.pasda.psu.edu/pub/pasda/dauphincountyLiDAR/LAS/Classified_LAS/`\n",
    "\n",
    "Save to a file called \n",
    "`LASURL.txt`\n",
    "\n",
    "Select the block of text from the window.\n",
    "\n",
    "Put into text editor.\n",
    "\n",
    "replace ` USGS\tDauphin Lidar (2 1/2ft horizontal)\tView\tn/a\tdownload\tn/a\tn/a\tdownload\tdownload` with `.zip`\n",
    "\n",
    "save file as\n",
    "`FileList.txt`\n"
   ]
  },
  {
   "cell_type": "markdown",
   "metadata": {},
   "source": [
    "## 2 Download LAS zip files\n",
    "\n",
    "Download the zip files for your area of interest, extract them and delete the zip files."
   ]
  },
  {
   "cell_type": "markdown",
   "metadata": {},
   "source": []
  },
  {
   "cell_type": "code",
   "execution_count": 1,
   "metadata": {},
   "outputs": [],
   "source": [
    "import os, zipfile"
   ]
  },
  {
   "cell_type": "code",
   "execution_count": 2,
   "metadata": {},
   "outputs": [
    {
     "name": "stdout",
     "output_type": "stream",
     "text": [
      "E:\\Projects\\Civicmapper\\Geolabs\\Geodev19\\zips\n"
     ]
    }
   ],
   "source": [
    "zip_dir = r\"E:\\Projects\\Civicmapper\\Geolabs\\Geodev19\\zips\" # folder where zip files are located\n",
    "print(\"%s\" % zip_dir)"
   ]
  },
  {
   "cell_type": "code",
   "execution_count": 3,
   "metadata": {},
   "outputs": [
    {
     "name": "stdout",
     "output_type": "stream",
     "text": [
      "E:\\Projects\\Civicmapper\\Geolabs\\Geodev19\\LAS\n"
     ]
    }
   ],
   "source": [
    "las_dir = r\"E:\\Projects\\Civicmapper\\Geolabs\\Geodev19\\LAS\" # folder where extracted files will go\n",
    "print(\"%s\" % las_dir)"
   ]
  },
  {
   "cell_type": "code",
   "execution_count": 4,
   "metadata": {},
   "outputs": [
    {
     "name": "stdout",
     "output_type": "stream",
     "text": [
      ".zip\n"
     ]
    }
   ],
   "source": [
    "extension = \".zip\"\n",
    "print(\"%s\" % extension)"
   ]
  },
  {
   "cell_type": "code",
   "execution_count": 6,
   "metadata": {},
   "outputs": [
    {
     "name": "stdout",
     "output_type": "stream",
     "text": [
      "Zip dir: E:\\Projects\\Civicmapper\\Geolabs\\Geodev19\\zips\n",
      "LAS dir: E:\\Projects\\Civicmapper\\Geolabs\\Geodev19\\LAS\n",
      "ext: .zip\n",
      "Zips to be converted: 14\n"
     ]
    }
   ],
   "source": [
    "print(\"Zip dir: %s\" % zip_dir)\n",
    "print(\"LAS dir: %s\" % las_dir)\n",
    "print(\"ext: %s\" % extension)\n",
    "\n",
    "zip_file_list = os.listdir(zip_dir)\n",
    "zfl_num = len(zip_file_list)\n",
    "print(\"Zips to be converted: %s\" % zfl_num)\n"
   ]
  },
  {
   "cell_type": "code",
   "execution_count": 7,
   "metadata": {},
   "outputs": [
    {
     "name": "stdout",
     "output_type": "stream",
     "text": [
      "E:\\Projects\\Civicmapper\\Geolabs\\Geodev19\\zips\\33502205PAS_LAS.zip\n",
      "E:\\Projects\\Civicmapper\\Geolabs\\Geodev19\\zips\\33502210PAS_LAS.zip\n",
      "E:\\Projects\\Civicmapper\\Geolabs\\Geodev19\\zips\\33502215PAS_LAS.zip\n",
      "E:\\Projects\\Civicmapper\\Geolabs\\Geodev19\\zips\\33502220PAS_LAS.zip\n",
      "E:\\Projects\\Civicmapper\\Geolabs\\Geodev19\\zips\\34002200PAS_LAS.zip\n",
      "E:\\Projects\\Civicmapper\\Geolabs\\Geodev19\\zips\\34002205PAS_LAS.zip\n",
      "E:\\Projects\\Civicmapper\\Geolabs\\Geodev19\\zips\\34002210PAS_LAS.zip\n",
      "E:\\Projects\\Civicmapper\\Geolabs\\Geodev19\\zips\\34002215PAS_LAS.zip\n",
      "E:\\Projects\\Civicmapper\\Geolabs\\Geodev19\\zips\\34002220PAS_LAS.zip\n",
      "E:\\Projects\\Civicmapper\\Geolabs\\Geodev19\\zips\\34502200PAS_LAS.zip\n",
      "E:\\Projects\\Civicmapper\\Geolabs\\Geodev19\\zips\\34502205PAS_LAS.zip\n",
      "E:\\Projects\\Civicmapper\\Geolabs\\Geodev19\\zips\\34502210PAS_LAS.zip\n",
      "E:\\Projects\\Civicmapper\\Geolabs\\Geodev19\\zips\\34502215PAS_LAS.zip\n",
      "E:\\Projects\\Civicmapper\\Geolabs\\Geodev19\\zips\\34502220PAS_LAS.zip\n"
     ]
    }
   ],
   "source": [
    "for item in zip_file_list:\n",
    "    # full_file_name = os.path.abspath(item)\n",
    "    ffn = os.path.join(zip_dir, item)\n",
    "    print(\"%s\" % ffn)         \n"
   ]
  },
  {
   "cell_type": "code",
   "execution_count": 8,
   "metadata": {},
   "outputs": [
    {
     "name": "stdout",
     "output_type": "stream",
     "text": [
      "Extracting 33502205PAS_LAS.zip ---> E:\\Projects\\Civicmapper\\Geolabs\\Geodev19\\LAS\n",
      "Extracting 33502210PAS_LAS.zip ---> E:\\Projects\\Civicmapper\\Geolabs\\Geodev19\\LAS\n",
      "Extracting 33502215PAS_LAS.zip ---> E:\\Projects\\Civicmapper\\Geolabs\\Geodev19\\LAS\n",
      "Extracting 33502220PAS_LAS.zip ---> E:\\Projects\\Civicmapper\\Geolabs\\Geodev19\\LAS\n",
      "Extracting 34002200PAS_LAS.zip ---> E:\\Projects\\Civicmapper\\Geolabs\\Geodev19\\LAS\n",
      "Extracting 34002205PAS_LAS.zip ---> E:\\Projects\\Civicmapper\\Geolabs\\Geodev19\\LAS\n",
      "Extracting 34002210PAS_LAS.zip ---> E:\\Projects\\Civicmapper\\Geolabs\\Geodev19\\LAS\n",
      "Extracting 34002215PAS_LAS.zip ---> E:\\Projects\\Civicmapper\\Geolabs\\Geodev19\\LAS\n",
      "Extracting 34002220PAS_LAS.zip ---> E:\\Projects\\Civicmapper\\Geolabs\\Geodev19\\LAS\n",
      "Extracting 34502200PAS_LAS.zip ---> E:\\Projects\\Civicmapper\\Geolabs\\Geodev19\\LAS\n",
      "Extracting 34502205PAS_LAS.zip ---> E:\\Projects\\Civicmapper\\Geolabs\\Geodev19\\LAS\n",
      "Extracting 34502210PAS_LAS.zip ---> E:\\Projects\\Civicmapper\\Geolabs\\Geodev19\\LAS\n",
      "Extracting 34502215PAS_LAS.zip ---> E:\\Projects\\Civicmapper\\Geolabs\\Geodev19\\LAS\n",
      "Extracting 34502220PAS_LAS.zip ---> E:\\Projects\\Civicmapper\\Geolabs\\Geodev19\\LAS\n"
     ]
    }
   ],
   "source": [
    "for item in os.listdir(zip_dir):\n",
    "    if item.endswith(extension):\n",
    "        #file_name = os.path.abspath(item)\n",
    "        ffn = os.path.join(zip_dir, item)\n",
    "        zip_ref = zipfile.ZipFile(ffn)\n",
    "        zip_ref.extractall(las_dir)\n",
    "        zip_ref.close()\n",
    "        print(\"Extracting\",item, \"--->\", las_dir ) \n",
    "        "
   ]
  },
  {
   "cell_type": "code",
   "execution_count": null,
   "metadata": {},
   "outputs": [],
   "source": [
    "for item in os.listdir(zip_dir):\n",
    "    if item.endswith(extension):\n",
    "        #file_name = os.path.abspath(item)\n",
    "        ffn = os.path.join(zip_dir, item)\n",
    "        print(\"Removing\", ffn) \n",
    "        os.remove(ffn)"
   ]
  },
  {
   "cell_type": "markdown",
   "metadata": {},
   "source": [
    "# Part II: Convert LAS to EPT endpoint with entwine\n",
    "\n",
    "Install Anaconda\n",
    "\n",
    "Crate an entwine enviroment\n",
    "\n",
    "Create EPT from the LAS files"
   ]
  },
  {
   "cell_type": "markdown",
   "metadata": {},
   "source": [
    "## Install Anaconda\n",
    "\n",
    "Download and install Anaconda (this may take a while)\n",
    "\n",
    "https://www.anaconda.com/distribution/#download-section\n",
    "\n"
   ]
  },
  {
   "cell_type": "markdown",
   "metadata": {},
   "source": [
    "## Create an entwine Environment\n",
    "\n",
    "Create new entwine environment\n",
    "\n",
    "Add conda-forge channel\n",
    "\n",
    "Install entwine package\n",
    "\n",
    "Activate entwine environment\n",
    "\n",
    "Ready to build some EPTs!\n"
   ]
  },
  {
   "cell_type": "markdown",
   "metadata": {},
   "source": [
    "## Build the EPT data\n",
    "\n",
    "Find the LAS files we extracted\n",
    "\n",
    "\n",
    "Make an output directory to store the EPTs\n",
    "\n",
    "\n",
    "Check out the results\n"
   ]
  },
  {
   "cell_type": "markdown",
   "metadata": {},
   "source": [
    "# Part III: Viewing the EPT in a browser\n",
    "\n",
    "Fire up a web a local webserver to serve the EPT files\n",
    "\n",
    "View the local hosted point cloud with potree and speckly\n",
    " "
   ]
  },
  {
   "cell_type": "markdown",
   "metadata": {},
   "source": [
    "## Install http server\n",
    "\n",
    "Add Node.js to conda\n",
    "\n",
    "Install the http server\n",
    "\n",
    "Start and HTTP server pointing to the EPTs\n"
   ]
  },
  {
   "cell_type": "markdown",
   "metadata": {},
   "source": [
    "## View the point cloud with entwine's local host viewers\n",
    "\n",
    "Potree\n",
    "\n",
    "Speckly\n",
    "\n"
   ]
  }
 ],
 "metadata": {
  "kernelspec": {
   "display_name": "Python 3",
   "language": "python",
   "name": "python3"
  },
  "language_info": {
   "codemirror_mode": {
    "name": "ipython",
    "version": 3
   },
   "file_extension": ".py",
   "mimetype": "text/x-python",
   "name": "python",
   "nbconvert_exporter": "python",
   "pygments_lexer": "ipython3",
   "version": "3.7.1"
  }
 },
 "nbformat": 4,
 "nbformat_minor": 2
}
