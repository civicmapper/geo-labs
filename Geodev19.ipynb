{
 "cells": [
  {
   "cell_type": "markdown",
   "metadata": {
    "slideshow": {
     "slide_type": "slide"
    }
   },
   "source": [
    "# Part I - Download Lidar Data from PASDA\n",
    "\n",
    "1. Use Imagery Navigator to find tiles.  \n",
    "  \n",
    "  \n",
    "2. Get LAS files URL & Make LAS files list.  \n",
    "  \n",
    "  \n",
    "3. Download Zip files\n",
    "     1. Bulk download extension and extract.py\n",
    "     2. Python mget  \n",
    "  \n",
    "     \n",
    "4. Extract to LAS files  "
   ]
  },
  {
   "cell_type": "markdown",
   "metadata": {
    "slideshow": {
     "slide_type": "slide"
    }
   },
   "source": [
    "## 1. Use Imagery Navigator from PASDA to get a list of tiles you need"
   ]
  },
  {
   "cell_type": "markdown",
   "metadata": {
    "slideshow": {
     "slide_type": "subslide"
    }
   },
   "source": [
    "### Go to Imagery Navigator to find your AOI\n",
    "\n",
    "https://maps.psiee.psu.edu/ImageryNavigator/\n",
    "\n",
    "Zoom to Area of Interest\n",
    "  \n",
    "`326 Market St, 17101`"
   ]
  },
  {
   "cell_type": "markdown",
   "metadata": {
    "slideshow": {
     "slide_type": "subslide"
    }
   },
   "source": [
    "### Get Tile List with Advanced Download Options\n",
    "\n",
    "Turn on the Index Tile Layer to see how many tiles are in you AOI.\n",
    "\n",
    "Use Advanced Download Options (lower left) to open the download PASDA Downlad Links pop-up."
   ]
  },
  {
   "cell_type": "markdown",
   "metadata": {
    "slideshow": {
     "slide_type": "subslide"
    }
   },
   "source": [
    "#### One Tile\n",
    "  \n",
    "Right click on the tile you want to bring up the PASDA download Links page.  \n",
    "  \n",
    "Switch to the Lidar, DEM, tab.  \n",
    "  \n",
    "Click the download link to get the LAS files.  \n",
    "  \n",
    "  USGS2016    \n",
    "`ftp://ftp.pasda.psu.edu/pub/pasda/dauphincountyLiDAR/LAS/Classified_LAS/34502200PAS_LAS.zip`  \n",
    "  \n",
    "  PAMAP  \n",
    "  `ftp://ftp.pasda.psu.edu/pub/pasda/pamap/pamap_lidar/cycle1/LAS/South/2008/30000000/34002210PAS.zip`"
   ]
  },
  {
   "cell_type": "markdown",
   "metadata": {
    "slideshow": {
     "slide_type": "subslide"
    }
   },
   "source": [
    "#### Many Tiles\n",
    "Click the \"List the tiles in the current map extent\" link to populate window with available downloads.  \n",
    "  \n",
    "Switch to the Lidar, DEM, tab."
   ]
  },
  {
   "cell_type": "markdown",
   "metadata": {
    "slideshow": {
     "slide_type": "slide"
    }
   },
   "source": [
    "## 2. Make LASURL and FileListtxt files from the Advanced Download list\n",
    "\n",
    "Right click one of the LAS download links and click 'copy link address'  \n",
    "`ftp://ftp.pasda.psu.edu/pub/pasda/dauphincountyLiDAR/LAS/Classified_LAS/34502200PAS_LAS.zip`  \n",
    "\n",
    "Paste into text editor and strip off the file name to get the ZIP download URL  \n",
    "`ftp://ftp.pasda.psu.edu/pub/pasda/dauphincountyLiDAR/LAS/Classified_LAS/`  \n",
    "\n",
    "Save to a file called.   \n",
    "`LASURL.txt`  \n",
    "  \n",
    "Select the block of text from the window.  \n",
    "  \n",
    "Put into text editor.  \n",
    "\n",
    "replace ` USGS\tDauphin Lidar (2 1/2ft horizontal)\tView\tn/a\tdownload\tn/a\tn/a\tdownload\tdownload` with `.zip`  \n",
    "  \n",
    "save file as `FileList.txt`"
   ]
  },
  {
   "cell_type": "markdown",
   "metadata": {
    "slideshow": {
     "slide_type": "slide"
    }
   },
   "source": [
    "## 3. Download LAS zip files\n",
    "\n",
    "Download the zip files for your area of interest.\n",
    "\n",
    "### Use Chrome Bulk Downloader  \n",
    "  \n",
    "* Install Chrome Bulk Downloader  \n",
    "* Navigate to the location of the LAS Zip files: `ftp://ftp.pasda.psu.edu/pub/pasda/dauphincountyLiDAR/LAS/Classified_LAS/`\n",
    "* Select all of the tiles in the `FileList.txt`\n",
    "* Start the bulk downloader and save the files. \n",
    "\n",
    "`E:\\Projects\\Civicmapper\\Geolabs\\Geodev19\\zips`\n",
    "  \n",
    "### Using python  \n",
    "  \n",
    "You can automate this with the Python `ftplib` and/or `ftputil` (https://pypi.org/project/ftputil/)."
   ]
  },
  {
   "cell_type": "markdown",
   "metadata": {
    "slideshow": {
     "slide_type": "slide"
    }
   },
   "source": [
    "## 4. Extract Multiple Zip files to LAS  \n",
    "  \n",
    "  Based on code found here:  \n",
    "  \n",
    "  https://www.srbc.net/pennsylvania-lidar-working-group/docs/download-extract-zip-python.pdf"
   ]
  },
  {
   "cell_type": "code",
   "execution_count": null,
   "metadata": {
    "slideshow": {
     "slide_type": "subslide"
    }
   },
   "outputs": [],
   "source": [
    "# imports\n",
    "import os, zipfile\n",
    "\n",
    "# file system stuff\n",
    "zip_dir = r\"E:\\Projects\\Civicmapper\\Geolabs\\Geodev19\\Harrisburg\\AOI\\Zips\" # folder where zip files are located\n",
    "las_dir = r\"E:\\Projects\\Civicmapper\\Geolabs\\Geodev19\\Harrisburg\\AOI\\LAS\" # folder where extracted files will go\n",
    "extension = \".zip\"\n",
    "\n",
    "print(\"Zip dir: %s\" % zip_dir)\n",
    "print(\"LAS dir: %s\" % las_dir)\n",
    "print(\"ext: %s\" % extension)"
   ]
  },
  {
   "cell_type": "markdown",
   "metadata": {
    "slideshow": {
     "slide_type": "subslide"
    }
   },
   "source": [
    "List out the zip files"
   ]
  },
  {
   "cell_type": "code",
   "execution_count": null,
   "metadata": {
    "slideshow": {
     "slide_type": "subslide"
    }
   },
   "outputs": [],
   "source": [
    "zip_file_list = os.listdir(zip_dir)\n",
    "zfl_num = len(zip_file_list)\n",
    "print(\"Zips to be converted: %s\" % zfl_num)\n",
    "\n",
    "for item in zip_file_list:\n",
    "    # full_file_name = os.path.abspath(item)\n",
    "    ffn = os.path.join(zip_dir, item)\n",
    "    print(\"%s\" % ffn)      "
   ]
  },
  {
   "cell_type": "markdown",
   "metadata": {
    "slideshow": {
     "slide_type": "subslide"
    }
   },
   "source": [
    "Extract from zip"
   ]
  },
  {
   "cell_type": "code",
   "execution_count": null,
   "metadata": {
    "slideshow": {
     "slide_type": "subslide"
    }
   },
   "outputs": [],
   "source": [
    "for item in os.listdir(zip_dir):\n",
    "    if item.endswith(extension):\n",
    "        #file_name = os.path.abspath(item)\n",
    "        ffn = os.path.join(zip_dir, item)\n",
    "        zip_ref = zipfile.ZipFile(ffn)\n",
    "        print(\"Extracting\",item, \"--->\", las_dir )\n",
    "        zip_ref.extractall(las_dir)\n",
    "        zip_ref.close()"
   ]
  },
  {
   "cell_type": "markdown",
   "metadata": {
    "slideshow": {
     "slide_type": "subslide"
    }
   },
   "source": [
    "Clean-up (remove the zip files)"
   ]
  },
  {
   "cell_type": "code",
   "execution_count": null,
   "metadata": {
    "slideshow": {
     "slide_type": "subslide"
    }
   },
   "outputs": [],
   "source": [
    "for item in os.listdir(zip_dir):\n",
    "    if item.endswith(extension):\n",
    "        #file_name = os.path.abspath(item)\n",
    "        ffn = os.path.join(zip_dir, item)\n",
    "        print(\"Removing\", ffn) \n",
    "        os.remove(ffn)"
   ]
  },
  {
   "cell_type": "markdown",
   "metadata": {
    "slideshow": {
     "slide_type": "slide"
    }
   },
   "source": [
    "# Part II: Convert LAS to EPT endpoint with entwine\n",
    "\n",
    "1. Install Anaconda\n",
    "2. Create a `conda` enviroment for installing/running `entwine`\n",
    "3. Run entwine to create `EPT` from the `LAS` files"
   ]
  },
  {
   "cell_type": "markdown",
   "metadata": {
    "slideshow": {
     "slide_type": "slide"
    }
   },
   "source": [
    "## 1. Install Anaconda\n",
    "\n",
    "Download and install Anaconda (this may take a while)\n",
    "\n",
    "> https://www.anaconda.com/distribution/#download-section\n",
    "\n"
   ]
  },
  {
   "cell_type": "markdown",
   "metadata": {
    "slideshow": {
     "slide_type": "slide"
    }
   },
   "source": [
    "## 2. Create an `entwine` environment \n",
    "  \n",
    "> Adapted from : https://entwine.io/quickstart.html\n",
    "  \n",
    "1. Create new environent named \"entwine\", add the conda-forge channel and install the entwine package\n",
    " \n",
    " `conda create -n entwine -c conda-forge entwine`\n",
    " \n",
    " \n",
    "2. Activate entwine environment  \n",
    "  \n",
    "  `conda activate entwine`\n",
    "  \n",
    "All of this gets us ready to conver the LAS file to a tiled EPT scheme, which is optimized for streaming over the web."
   ]
  },
  {
   "cell_type": "markdown",
   "metadata": {
    "slideshow": {
     "slide_type": "slide"
    }
   },
   "source": [
    "## 3. Build the EPT data"
   ]
  },
  {
   "cell_type": "markdown",
   "metadata": {
    "slideshow": {
     "slide_type": "subslide"
    }
   },
   "source": [
    "### 1. Find the LAS files we extracted\n",
    "  \n",
    "For times sake we are just going to do 2 files; the same tile `34002210PAS` and for the PAMAP and the USGS to compare the difference.\n",
    "  \n",
    "USGS2016\n",
    "\n",
    "`E:\\Projects\\Civicmapper\\Geolabs\\Geodev19\\Harrisburg\\OneTile\\LAS\\USGS2016\\34002210PAS.las`  \n",
    "  \n",
    "PAMAP\n",
    "\n",
    "`E:\\Projects\\Civicmapper\\Geolabs\\Geodev19\\Harrisburg\\OneTile\\LAS\\PAMAP2006\\34002210PAS.las`"
   ]
  },
  {
   "cell_type": "markdown",
   "metadata": {
    "slideshow": {
     "slide_type": "subslide"
    }
   },
   "source": [
    "### 2. Make an output directory to store the EPTs  \n",
    "  \n",
    "`E:\\Projects\\Civicmapper\\Geolabs\\Geodev19\\entwine\\OneTile\\PAMAP2006`  \n",
    "    \n",
    "`E:\\Projects\\Civicmapper\\Geolabs\\Geodev19\\entwine\\OneTile\\USGS2016`  "
   ]
  },
  {
   "cell_type": "markdown",
   "metadata": {
    "slideshow": {
     "slide_type": "subslide"
    }
   },
   "source": [
    "  \n",
    "### 3. Create the EPT using `entwine build` commands\n",
    "  \n",
    "`entwine build -i E:\\Projects\\Civicmapper\\Geolabs\\Geodev19\\Harrisburg\\OneTile\\LAS\\PAMAP2006\\34002210PAS.las -o E:\\Projects\\Civicmapper\\Geolabs\\Geodev19\\entwine\\OneTile\\PAMAP2006`\n",
    "  \n",
    "`entwine build -i E:\\Projects\\Civicmapper\\Geolabs\\Geodev19\\Harrisburg\\OneTile\\LAS\\USGS2016\\34002210PAS.las -o E:\\Projects\\Civicmapper\\Geolabs\\Geodev19\\entwine\\OneTile\\USGS2016`  "
   ]
  },
  {
   "cell_type": "code",
   "execution_count": null,
   "metadata": {
    "slideshow": {
     "slide_type": "subslide"
    }
   },
   "outputs": [],
   "source": [
    "entwine build -i E:\\Projects\\Civicmapper\\Geolabs\\Geodev19\\Harrisburg\\OneTile\\LAS\\PAMAP2006\\34002210PAS.las -o E:\\Projects\\Civicmapper\\Geolabs\\Geodev19\\entwine\\OneTile\\PAMAP2006"
   ]
  },
  {
   "cell_type": "code",
   "execution_count": null,
   "metadata": {
    "slideshow": {
     "slide_type": "subslide"
    }
   },
   "outputs": [],
   "source": [
    "entwine build -i E:\\Projects\\Civicmapper\\Geolabs\\Geodev19\\Harrisburg\\OneTile\\LAS\\USGS2016\\34002210PAS.las -o E:\\Projects\\Civicmapper\\Geolabs\\Geodev19\\entwine\\OneTile\\USGS2016"
   ]
  },
  {
   "cell_type": "markdown",
   "metadata": {
    "slideshow": {
     "slide_type": "slide"
    }
   },
   "source": [
    "# Part III: Viewing the EPT in a browser\n",
    "\n",
    "1.  Fire up a web a local webserver to serve the EPT files  \n",
    "  \n",
    "\n",
    "2.  View the local hosted point cloud with potree and speckly  \n",
    "  \n",
    "  \n",
    " "
   ]
  },
  {
   "cell_type": "markdown",
   "metadata": {
    "slideshow": {
     "slide_type": "subslide"
    }
   },
   "source": [
    "## 1. Serve up the EPT data locally\n",
    "\n",
    "### Add Node.js to conda and install http-server: \n",
    "\n",
    "`conda install nodejs -y`\n",
    "\n",
    "`npm install http-server -g`\n",
    "\n",
    "### Start a local HTTP server for the the EPTs: \n",
    "\n",
    "`http-server E:\\Projects\\Civicmapper\\Geolabs\\Geodev19\\entwine -p 8080 --cors`  \n",
    "\n",
    "### Navigate to the server endpoint: \n",
    "\n",
    "http://localhost:8080/"
   ]
  },
  {
   "cell_type": "code",
   "execution_count": null,
   "metadata": {
    "slideshow": {
     "slide_type": "subslide"
    }
   },
   "outputs": [],
   "source": [
    "!!http-server E:\\Projects\\Civicmapper\\Geolabs\\Geodev19\\entwine -p 8080 --cors"
   ]
  },
  {
   "cell_type": "markdown",
   "metadata": {
    "slideshow": {
     "slide_type": "subslide"
    }
   },
   "source": [
    "## 2. View the point cloud with entwine's local host viewers\n",
    "\n",
    "Potree  \n",
    "  \n",
    "http://potree.entwine.io/data/view.html?r=http://localhost:8080/OneTile/PAMAP2006  \n",
    "  \n",
    "  \n",
    "http://potree.entwine.io/data/view.html?r=http://localhost:8080/OneTile/USGS2016\n",
    "\n",
    "\n",
    "Speckly  \n",
    "  \n",
    "http://dev.speck.ly/?s=0&r=ept://localhost:8080/OneTile/PAMAP2006&c0s=local://color  \n",
    "  \n",
    "  \n",
    "http://dev.speck.ly/?s=0&r=ept://localhost:8080/OneTile/USGS2016&c0s=local://color  \n",
    "\n"
   ]
  }
 ],
 "metadata": {
  "celltoolbar": "Slideshow",
  "kernelspec": {
   "display_name": "Python 3",
   "language": "python",
   "name": "python3"
  },
  "language_info": {
   "codemirror_mode": {
    "name": "ipython",
    "version": 3
   },
   "file_extension": ".py",
   "mimetype": "text/x-python",
   "name": "python",
   "nbconvert_exporter": "python",
   "pygments_lexer": "ipython3",
   "version": "3.6.7"
  },
  "rise": {
   "theme": "simple"
  }
 },
 "nbformat": 4,
 "nbformat_minor": 2
}
